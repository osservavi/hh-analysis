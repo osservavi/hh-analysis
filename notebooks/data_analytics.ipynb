{
 "cells": [
  {
   "cell_type": "code",
   "execution_count": null,
   "id": "01d6a34c",
   "metadata": {},
   "outputs": [],
   "source": [
    "import pandas as pd\n",
    "import matplotlib.pyplot as plt\n",
    "import sys\n",
    "from pathlib import Path\n",
    "import os\n",
    "\n",
    "current_dir = Path.cwd()\n",
    "sys.path.insert(0, str(current_dir.parent))\n",
    "\n",
    "from config import PROCESSED_DATA_DIR"
   ]
  },
  {
   "cell_type": "code",
   "execution_count": 21,
   "id": "e571c8c2",
   "metadata": {},
   "outputs": [
    {
     "data": {
      "text/html": [
       "<div>\n",
       "<style scoped>\n",
       "    .dataframe tbody tr th:only-of-type {\n",
       "        vertical-align: middle;\n",
       "    }\n",
       "\n",
       "    .dataframe tbody tr th {\n",
       "        vertical-align: top;\n",
       "    }\n",
       "\n",
       "    .dataframe thead th {\n",
       "        text-align: right;\n",
       "    }\n",
       "</style>\n",
       "<table border=\"1\" class=\"dataframe\">\n",
       "  <thead>\n",
       "    <tr style=\"text-align: right;\">\n",
       "      <th></th>\n",
       "      <th>skills</th>\n",
       "      <th>collecting_date</th>\n",
       "    </tr>\n",
       "  </thead>\n",
       "  <tbody>\n",
       "    <tr>\n",
       "      <th>0</th>\n",
       "      <td>['Маркетплейсы', 'Аналитика', 'ABC-анализ', 'А...</td>\n",
       "      <td>2025-09-16</td>\n",
       "    </tr>\n",
       "    <tr>\n",
       "      <th>1</th>\n",
       "      <td>[]</td>\n",
       "      <td>2025-09-16</td>\n",
       "    </tr>\n",
       "    <tr>\n",
       "      <th>2</th>\n",
       "      <td>['Английский язык', 'Работа с большим объемом ...</td>\n",
       "      <td>2025-09-16</td>\n",
       "    </tr>\n",
       "    <tr>\n",
       "      <th>3</th>\n",
       "      <td>['Деловое общение', 'Деловая переписка', 'Рабо...</td>\n",
       "      <td>2025-09-16</td>\n",
       "    </tr>\n",
       "    <tr>\n",
       "      <th>4</th>\n",
       "      <td>['SQL', 'Базы данных', 'Работа с базами данных...</td>\n",
       "      <td>2025-09-16</td>\n",
       "    </tr>\n",
       "  </tbody>\n",
       "</table>\n",
       "</div>"
      ],
      "text/plain": [
       "                                              skills collecting_date\n",
       "0  ['Маркетплейсы', 'Аналитика', 'ABC-анализ', 'А...      2025-09-16\n",
       "1                                                 []      2025-09-16\n",
       "2  ['Английский язык', 'Работа с большим объемом ...      2025-09-16\n",
       "3  ['Деловое общение', 'Деловая переписка', 'Рабо...      2025-09-16\n",
       "4  ['SQL', 'Базы данных', 'Работа с базами данных...      2025-09-16"
      ]
     },
     "execution_count": 21,
     "metadata": {},
     "output_type": "execute_result"
    }
   ],
   "source": [
    "df = pd.read_csv(Path(PROCESSED_DATA_DIR)/\"processed_data.csv\", encoding=\"Windows-1251\")\n",
    "df.head()"
   ]
  },
  {
   "cell_type": "code",
   "execution_count": 29,
   "id": "0dfb53a2",
   "metadata": {},
   "outputs": [
    {
     "data": {
      "text/html": [
       "<div>\n",
       "<style scoped>\n",
       "    .dataframe tbody tr th:only-of-type {\n",
       "        vertical-align: middle;\n",
       "    }\n",
       "\n",
       "    .dataframe tbody tr th {\n",
       "        vertical-align: top;\n",
       "    }\n",
       "\n",
       "    .dataframe thead th {\n",
       "        text-align: right;\n",
       "    }\n",
       "</style>\n",
       "<table border=\"1\" class=\"dataframe\">\n",
       "  <thead>\n",
       "    <tr style=\"text-align: right;\">\n",
       "      <th></th>\n",
       "      <th>skills</th>\n",
       "      <th>collecting_date</th>\n",
       "    </tr>\n",
       "  </thead>\n",
       "  <tbody>\n",
       "    <tr>\n",
       "      <th>0</th>\n",
       "      <td>['Маркетплейсы', 'Аналитика', 'ABC-анализ', 'А...</td>\n",
       "      <td>2025-09-16</td>\n",
       "    </tr>\n",
       "    <tr>\n",
       "      <th>2</th>\n",
       "      <td>['Английский язык', 'Работа с большим объемом ...</td>\n",
       "      <td>2025-09-16</td>\n",
       "    </tr>\n",
       "    <tr>\n",
       "      <th>3</th>\n",
       "      <td>['Деловое общение', 'Деловая переписка', 'Рабо...</td>\n",
       "      <td>2025-09-16</td>\n",
       "    </tr>\n",
       "    <tr>\n",
       "      <th>4</th>\n",
       "      <td>['SQL', 'Базы данных', 'Работа с базами данных...</td>\n",
       "      <td>2025-09-16</td>\n",
       "    </tr>\n",
       "    <tr>\n",
       "      <th>5</th>\n",
       "      <td>['Аналитическое мышление', 'Работа с базами да...</td>\n",
       "      <td>2025-09-16</td>\n",
       "    </tr>\n",
       "  </tbody>\n",
       "</table>\n",
       "</div>"
      ],
      "text/plain": [
       "                                              skills collecting_date\n",
       "0  ['Маркетплейсы', 'Аналитика', 'ABC-анализ', 'А...      2025-09-16\n",
       "2  ['Английский язык', 'Работа с большим объемом ...      2025-09-16\n",
       "3  ['Деловое общение', 'Деловая переписка', 'Рабо...      2025-09-16\n",
       "4  ['SQL', 'Базы данных', 'Работа с базами данных...      2025-09-16\n",
       "5  ['Аналитическое мышление', 'Работа с базами да...      2025-09-16"
      ]
     },
     "execution_count": 29,
     "metadata": {},
     "output_type": "execute_result"
    }
   ],
   "source": [
    "df = df[df['skills'] != '[]']\n",
    "df.head()"
   ]
  }
 ],
 "metadata": {
  "kernelspec": {
   "display_name": "venv (3.12.2)",
   "language": "python",
   "name": "python3"
  },
  "language_info": {
   "codemirror_mode": {
    "name": "ipython",
    "version": 3
   },
   "file_extension": ".py",
   "mimetype": "text/x-python",
   "name": "python",
   "nbconvert_exporter": "python",
   "pygments_lexer": "ipython3",
   "version": "3.12.2"
  }
 },
 "nbformat": 4,
 "nbformat_minor": 5
}
